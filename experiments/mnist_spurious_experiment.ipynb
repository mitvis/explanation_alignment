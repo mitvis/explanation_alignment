{
 "cells": [
  {
   "cell_type": "code",
   "execution_count": null,
   "id": "bb627678-ed82-4885-a63e-c6733617c42e",
   "metadata": {},
   "outputs": [],
   "source": [
    "%load_ext autoreload\n",
    "%autoreload 2"
   ]
  },
  {
   "cell_type": "code",
   "execution_count": 1,
   "id": "463d59f6-8cfc-4bad-9d5a-91fbbed538ff",
   "metadata": {
    "tags": []
   },
   "outputs": [],
   "source": [
    "import warnings\n",
    "warnings.filterwarnings('ignore')"
   ]
  },
  {
   "cell_type": "code",
   "execution_count": 41,
   "id": "49f42a0e-e290-4d32-9b65-49e01581d2ac",
   "metadata": {
    "tags": []
   },
   "outputs": [],
   "source": [
    "import os\n",
    "import pickle\n",
    "import seaborn\n",
    "import torch\n",
    "import torchvision\n",
    "import numpy as np\n",
    "import matplotlib.pyplot as plt\n",
    "import tensorflow as tf\n",
    "import random\n",
    "import torch.nn as nn\n",
    "import torch.nn.functional as F\n",
    "import torch.optim as optim\n",
    "from torch.optim.lr_scheduler import StepLR\n",
    "from tqdm import tqdm\n",
    "from statistics import mean\n",
    "from matplotlib.gridspec import GridSpec\n",
    "\n",
    "from shared_interest.shared_interest import shared_interest\n",
    "from shared_interest.util import flatten, binarize_std, normalize_0to1\n",
    "from interpretability_methods.vanilla_gradients import VanillaGradients\n",
    "\n",
    "class ColoredMNIST(torchvision.datasets.MNIST):\n",
    "    \"\"\"Extends MNIST dataset to include colored blocks.\"\"\"\n",
    "\n",
    "    def __init__(self, root, train = True, download = True, transform=None, correlation = False, digit_as_ground_truth = True):\n",
    "        super().__init__(root, train, transform, None, download)\n",
    "        self.digit_as_ground_truth = digit_as_ground_truth\n",
    "        self.correlation = correlation\n",
    "        self.colors = ['(230,25,75)', '(245,130,48)', '(255,225,25)', '(210, 245,60)', '(60,180,75)', '(70,240,240)', '(0,130,200)', '(145,30,180)', '(240,50,230)', '(0,0,128)']\n",
    "        if (not self.correlation) and (not self.train):\n",
    "            random.shuffle(self.colors)\n",
    "        \n",
    "    def __getitem__(self, index):\n",
    "        \"\"\"Returns the image, ground_truth mask, and label of the image.\"\"\"\n",
    "        image, target = super().__getitem__(index)\n",
    "        # inverting black to white , white to black\n",
    "        image = torchvision.transforms.functional.invert(image).numpy()\n",
    "        ground_truth = self._create_ground_truth(image, self.digit_as_ground_truth)\n",
    "        \n",
    "        # adding color\n",
    "        color_idx = target\n",
    "        if (not self.correlation) and self.train:\n",
    "            color_idx = random.randint(0,9)\n",
    "        color = self.colors[color_idx].split(\",\")\n",
    "        for c in range(3):\n",
    "            c_color = color[c].replace('(','').replace(')','')\n",
    "            for i in range(5):\n",
    "                for j in range(5):\n",
    "                    image[c][i][j] = bytes(c_color, 'utf-8')\n",
    "        image = torch.from_numpy(image)\n",
    "        normalize = torchvision.transforms.Compose([torchvision.transforms.ToPILImage(),\n",
    "                                                    torchvision.transforms.ToTensor()])\n",
    "        \n",
    "        img_nr = normalize(image).float()\n",
    "        ground_truth_nr = torch.squeeze(normalize(ground_truth), 0)\n",
    "        return img_nr, ground_truth_nr, target\n",
    "    \n",
    "    def _create_ground_truth(self, image, digit_as_ground_truth):\n",
    "        \"\"\"Creates a binary groudn truth mask on the colored block.\"\"\"\n",
    "        ground_truth = torch.zeros((28, 28))\n",
    "        if digit_as_ground_truth:\n",
    "            non_black_pixels = np.where(\n",
    "                (image[0, :, :] < 255) & \n",
    "                (image[1, :, :] < 255) & \n",
    "                (image[2, :, :] < 255)\n",
    "            )\n",
    "            ground_truth[non_black_pixels] = 1\n",
    "        else:\n",
    "            # ground truth as color block \n",
    "            for i in range(5):\n",
    "                for j in range(5):\n",
    "                    ground_truth[i][j] = 1\n",
    "        return ground_truth\n",
    "\n",
    "class Net(nn.Module):\n",
    "    def __init__(self):\n",
    "        super(Net, self).__init__()\n",
    "\n",
    "        self.conv1 = nn.Conv2d(3, 32, 3, 1)\n",
    "        self.conv2 = nn.Conv2d(32, 64, 3, 1)\n",
    "\n",
    "        self.dropout1 = nn.Dropout2d(0.25)\n",
    "        self.dropout2 = nn.Dropout2d(0.5)\n",
    "\n",
    "        self.fc1 = nn.Linear(9216, 128)\n",
    "        self.fc2 = nn.Linear(128, 10)\n",
    "        \n",
    "    def forward(self, x):\n",
    "        x = self.conv1(x)\n",
    "        x = F.relu(x)\n",
    "\n",
    "        x = self.conv2(x)\n",
    "        x = F.relu(x)\n",
    "\n",
    "        x = F.max_pool2d(x, 2)\n",
    "        x = self.dropout1(x)\n",
    "        x = torch.flatten(x, 1)\n",
    "        x = self.fc1(x)\n",
    "        x = F.relu(x)\n",
    "        x = self.dropout2(x)\n",
    "        x = self.fc2(x)\n",
    "\n",
    "        output = F.log_softmax(x, dim=1)\n",
    "        return output"
   ]
  },
  {
   "cell_type": "code",
   "execution_count": 42,
   "id": "d9bc9b57-f6d5-4628-a6af-8663f6b1dd6c",
   "metadata": {
    "scrolled": true,
    "tags": []
   },
   "outputs": [],
   "source": [
    "# training data without correlation between color and digit \n",
    "normal_train_data = ColoredMNIST('data', train = True, download = True, \n",
    "                          transform= torchvision.transforms.Compose([torchvision.transforms.Grayscale(num_output_channels=3),\n",
    "                                                                     torchvision.transforms.PILToTensor()]),\n",
    "                         correlation = False)\n",
    "\n",
    "# training data with correlation between color and digit \n",
    "corr_train_data = ColoredMNIST('data', train = True, download = True, \n",
    "                          transform= torchvision.transforms.Compose([torchvision.transforms.Grayscale(num_output_channels=3),\n",
    "                                                                     torchvision.transforms.PILToTensor()]),\n",
    "                         correlation = True)\n",
    "\n",
    "# test data without correlation between color and digit \n",
    "normal_test_data = ColoredMNIST('data', train = False, download = True, \n",
    "                          transform= torchvision.transforms.Compose([torchvision.transforms.Grayscale(num_output_channels=3),\n",
    "                                                                     torchvision.transforms.PILToTensor()]),\n",
    "                         correlation = False)\n",
    "\n",
    "# test data with correlation between color and digit \n",
    "corr_test_data = ColoredMNIST('data', train = False, download = True, \n",
    "                          transform= torchvision.transforms.Compose([torchvision.transforms.Grayscale(num_output_channels=3),\n",
    "                                                                     torchvision.transforms.PILToTensor()]),\n",
    "                         correlation = True)"
   ]
  },
  {
   "cell_type": "code",
   "execution_count": 43,
   "id": "45de3670-cece-421e-bc3d-9c1b6e2753d6",
   "metadata": {
    "tags": []
   },
   "outputs": [],
   "source": [
    "normal_train_loader = torch.utils.data.DataLoader(normal_train_data, batch_size=64, shuffle=True)\n",
    "corr_train_loader = torch.utils.data.DataLoader(corr_train_data, batch_size=64, shuffle=True)\n",
    "\n",
    "\n",
    "normal_test_loader = torch.utils.data.DataLoader(normal_test_data, batch_size=64, shuffle=False)\n",
    "corr_test_loader = torch.utils.data.DataLoader(corr_test_data, batch_size=64, shuffle=False)\n",
    "\n",
    "examples = enumerate(normal_train_loader)\n",
    "batch_idx, (example_data, example_ground_truth, example_targets) = next(examples)\n"
   ]
  },
  {
   "cell_type": "code",
   "execution_count": 44,
   "id": "7b9bfdb0-8183-47a8-a72e-edd76a34c6dd",
   "metadata": {
    "tags": []
   },
   "outputs": [
    {
     "data": {
      "image/png": "[encoded data removed]",
      "text/plain": [
       "<Figure size 1000x800 with 25 Axes>"
      ]
     },
     "metadata": {},
     "output_type": "display_data"
    }
   ],
   "source": [
    "# examples of images \n",
    "figure = plt.figure(figsize=(10, 8))\n",
    "cols, rows = 5, 5\n",
    "for i in range(1, cols * rows + 1):\n",
    "    sample_idx = torch.randint(len(normal_test_data), size=(1,)).item()\n",
    "    img, ground_truth, label = normal_test_data[sample_idx]\n",
    "    figure.add_subplot(rows, cols, i)\n",
    "    plt.title(label)\n",
    "    plt.imshow(img.permute(1,2,0))\n",
    "plt.show()"
   ]
  },
  {
   "cell_type": "code",
   "execution_count": 6,
   "id": "040405b0-8ab4-4cce-8d01-f433050d0f2e",
   "metadata": {
    "tags": []
   },
   "outputs": [],
   "source": [
    "# training datasets with the colored block as the ground truth\n",
    "\n",
    "# without correlation\n",
    "color_anno_normal = ColoredMNIST('data', train = False, download = True, \n",
    "                          transform= torchvision.transforms.Compose([torchvision.transforms.Grayscale(num_output_channels=3),\n",
    "                                                                     torchvision.transforms.PILToTensor()]),\n",
    "                         correlation = False, digit_as_ground_truth = False)\n",
    "\n",
    "# with correlation \n",
    "color_anno_corr = ColoredMNIST('data', train = False, download = True, \n",
    "                          transform= torchvision.transforms.Compose([torchvision.transforms.Grayscale(num_output_channels=3),\n",
    "                                                                     torchvision.transforms.PILToTensor()]),\n",
    "                         correlation = True, digit_as_ground_truth = False)"
   ]
  },
  {
   "cell_type": "code",
   "execution_count": 7,
   "id": "aff38a47-44f5-4d43-8fcb-22b7549dacfb",
   "metadata": {
    "tags": []
   },
   "outputs": [],
   "source": [
    "color_anno_normal_loader = torch.utils.data.DataLoader(color_anno_normal, batch_size=64, shuffle=False)\n",
    "color_anno_corr_loader = torch.utils.data.DataLoader(color_anno_corr, batch_size=64, shuffle=False)"
   ]
  },
  {
   "cell_type": "code",
   "execution_count": 8,
   "id": "1d5c21fc-d8bc-40ed-bbe9-0d4ba43512b1",
   "metadata": {
    "tags": []
   },
   "outputs": [],
   "source": [
    "def binarize_threshold(batch, threshold):\n",
    "    batch_normalized = normalize_0to1(batch)\n",
    "    binary_mask = (batch_normalized >= threshold).astype('uint8')\n",
    "    return binary_mask"
   ]
  },
  {
   "cell_type": "code",
   "execution_count": 9,
   "id": "ac0c7e00-e583-4a04-8bb7-ee6ba580d4c6",
   "metadata": {
    "tags": []
   },
   "outputs": [],
   "source": [
    "def train(epoch, device, model, optimizer, train_loader):\n",
    "    model.train()\n",
    "    for batch_idx, (data, ground_truth, target) in enumerate(tqdm(train_loader)):\n",
    "        data, target = (data).to(device), target.to(device)\n",
    "        ground_truth = ground_truth.numpy()\n",
    "        optimizer.zero_grad()\n",
    "        output = model(data)\n",
    "        loss = F.nll_loss(output, target)\n",
    "        loss.backward()\n",
    "        optimizer.step()\n",
    "    print('Train Epoch: {} [({:.0f}%)]\\tLoss: {:.6f}'.format(\n",
    "        epoch, 100. * batch_idx / len(train_loader), loss.item()))"
   ]
  },
  {
   "cell_type": "code",
   "execution_count": 18,
   "id": "5ed6a6d2-2fbb-4bdb-8de6-dcf9b265751f",
   "metadata": {
    "tags": []
   },
   "outputs": [],
   "source": [
    "def test(model, device, test_loader):\n",
    "    model.eval()\n",
    "    saliency_method = VanillaGradients(model)\n",
    "    salient_pixel_count = 0\n",
    "    correct = 0\n",
    "    total_shared_interest_scores = {'iou_coverage': np.array([]),\n",
    "                                    'ground_truth_coverage': np.array([]),\n",
    "                                    'saliency_coverage': np.array([]),}\n",
    "    saliency_mean = 0\n",
    "    saliency_std = 0\n",
    "    with torch.no_grad():\n",
    "        for batch_idx, (data, ground_truth, target) in enumerate(tqdm(test_loader)):\n",
    "            data, target = (data).to(device), target.to(device)\n",
    "            ground_truth = ground_truth.numpy()\n",
    "            output = model(data)\n",
    "            pred = output.argmax(dim=1, keepdim=True)  # get the index of the max log-probability\n",
    "            correct += pred.eq(target.view_as(pred)).sum().item()\n",
    "            \n",
    "            saliency = flatten(saliency_method.get_saliency(data))\n",
    "            saliency_masks = binarize_std(saliency)\n",
    "            \n",
    "            # Compute Shared Interest scores\n",
    "            for score in total_shared_interest_scores:\n",
    "                shared_interest_scores = shared_interest(ground_truth, saliency_masks, score=score)\n",
    "                total_shared_interest_scores[score] = np.concatenate((total_shared_interest_scores[score], shared_interest_scores))\n",
    "            \n",
    "            # iterate through all pixels \n",
    "            for i in range(saliency.shape[0]):\n",
    "                saliency_batch = saliency[i]\n",
    "                ground_truth_batch = ground_truth[i]\n",
    "                pixel = np.unravel_index(saliency_batch.argmax(), saliency_batch.shape)\n",
    "                point = ground_truth_batch[pixel[0], pixel[1]]\n",
    "\n",
    "                # check if most salient feature is in ground truth \n",
    "                if point > 0:\n",
    "                    salient_pixel_count += 1\n",
    "    \n",
    "    pointing_game = salient_pixel_count / len(test_loader.dataset)\n",
    "    accuracy = 100. * correct / len(test_loader.dataset)\n",
    "    print('Accuracy: {}/{} ({:.0f}%)'.format(correct, len(test_loader.dataset), accuracy))\n",
    "    print('IoU coverage: ' + str(mean(total_shared_interest_scores['iou_coverage'])))\n",
    "    print('Pointing Game: ' + str(pointing_game))"
   ]
  },
  {
   "cell_type": "code",
   "execution_count": 15,
   "id": "8acfc517-51cf-4ff7-90b9-76196ab29cc1",
   "metadata": {
    "tags": []
   },
   "outputs": [
    {
     "name": "stderr",
     "output_type": "stream",
     "text": [
      "100%|██████████████████████████████████████████████████████████████████████████████████████| 938/938 [01:58<00:00,  7.91it/s]\n"
     ]
    },
    {
     "name": "stdout",
     "output_type": "stream",
     "text": [
      "Train Epoch: 0 [(100%)]\tLoss: 0.262585\n"
     ]
    },
    {
     "name": "stderr",
     "output_type": "stream",
     "text": [
      "100%|██████████████████████████████████████████████████████████████████████████████████████| 938/938 [02:01<00:00,  7.72it/s]\n"
     ]
    },
    {
     "name": "stdout",
     "output_type": "stream",
     "text": [
      "Train Epoch: 1 [(100%)]\tLoss: 0.211852\n"
     ]
    },
    {
     "name": "stderr",
     "output_type": "stream",
     "text": [
      "100%|██████████████████████████████████████████████████████████████████████████████████████| 938/938 [01:49<00:00,  8.59it/s]\n"
     ]
    },
    {
     "name": "stdout",
     "output_type": "stream",
     "text": [
      "Train Epoch: 2 [(100%)]\tLoss: 0.078537\n"
     ]
    },
    {
     "name": "stderr",
     "output_type": "stream",
     "text": [
      "100%|██████████████████████████████████████████████████████████████████████████████████████| 938/938 [01:40<00:00,  9.37it/s]\n"
     ]
    },
    {
     "name": "stdout",
     "output_type": "stream",
     "text": [
      "Train Epoch: 3 [(100%)]\tLoss: 0.144822\n"
     ]
    },
    {
     "name": "stderr",
     "output_type": "stream",
     "text": [
      "100%|██████████████████████████████████████████████████████████████████████████████████████| 157/157 [00:18<00:00,  8.55it/s]\n"
     ]
    },
    {
     "name": "stdout",
     "output_type": "stream",
     "text": [
      "Accuracy: 9807/10000 (98%)\n",
      "IoU coverage: 0.2939412821522318\n",
      "Pointing Gmae: 0.6978\n"
     ]
    },
    {
     "name": "stderr",
     "output_type": "stream",
     "text": [
      "100%|██████████████████████████████████████████████████████████████████████████████████████| 157/157 [00:18<00:00,  8.50it/s]\n"
     ]
    },
    {
     "name": "stdout",
     "output_type": "stream",
     "text": [
      "Accuracy: 9806/10000 (98%)\n",
      "IoU coverage: 0.29385390121859023\n",
      "Pointing Gmae: 0.6985\n"
     ]
    }
   ],
   "source": [
    "device = torch.device(\"cuda\" if torch.cuda.is_available() else \"cpu\")\n",
    "normal_model = Net().to(device)\n",
    "optimizer = optim.SGD(normal_model.parameters(), lr=0.01, momentum=0.5)\n",
    "scheduler = StepLR(optimizer, step_size=1, gamma=0.7)\n",
    "\n",
    "n_epochs = 4\n",
    "for epoch in range(n_epochs):\n",
    "    train(epoch, device, normal_model, optimizer, normal_train_loader)\n",
    "    scheduler.step()\n",
    "\n",
    "test(normal_model, device, normal_test_loader)\n",
    "test(normal_model, device, corr_test_loader)"
   ]
  },
  {
   "cell_type": "code",
   "execution_count": 17,
   "id": "8c7aa6e2-8966-4277-89a4-c25bf304cb6c",
   "metadata": {
    "tags": []
   },
   "outputs": [
    {
     "name": "stderr",
     "output_type": "stream",
     "text": [
      "100%|██████████████████████████████████████████████████████████████████████████████████████| 938/938 [02:40<00:00,  5.86it/s]\n"
     ]
    },
    {
     "name": "stdout",
     "output_type": "stream",
     "text": [
      "Train Epoch: 1 [(100%)]\tLoss: 0.514235\n"
     ]
    },
    {
     "name": "stderr",
     "output_type": "stream",
     "text": [
      "100%|██████████████████████████████████████████████████████████████████████████████████████| 938/938 [01:56<00:00,  8.08it/s]\n"
     ]
    },
    {
     "name": "stdout",
     "output_type": "stream",
     "text": [
      "Train Epoch: 2 [(100%)]\tLoss: 0.017834\n"
     ]
    },
    {
     "name": "stderr",
     "output_type": "stream",
     "text": [
      "100%|██████████████████████████████████████████████████████████████████████████████████████| 938/938 [03:25<00:00,  4.56it/s]\n"
     ]
    },
    {
     "name": "stdout",
     "output_type": "stream",
     "text": [
      "Train Epoch: 3 [(100%)]\tLoss: 0.049425\n"
     ]
    },
    {
     "name": "stderr",
     "output_type": "stream",
     "text": [
      "100%|██████████████████████████████████████████████████████████████████████████████████████| 938/938 [02:54<00:00,  5.38it/s]\n"
     ]
    },
    {
     "name": "stdout",
     "output_type": "stream",
     "text": [
      "Train Epoch: 4 [(100%)]\tLoss: 0.046728\n"
     ]
    },
    {
     "name": "stderr",
     "output_type": "stream",
     "text": [
      "100%|██████████████████████████████████████████████████████████████████████████████████████| 157/157 [00:27<00:00,  5.78it/s]\n"
     ]
    },
    {
     "name": "stdout",
     "output_type": "stream",
     "text": [
      "Accuracy: 4608/10000 (46%)\n",
      "IoU coverage: 0.08658043606481623\n",
      "Pointing Gmae: 0.048\n"
     ]
    },
    {
     "name": "stderr",
     "output_type": "stream",
     "text": [
      "100%|██████████████████████████████████████████████████████████████████████████████████████| 157/157 [00:26<00:00,  5.98it/s]\n"
     ]
    },
    {
     "name": "stdout",
     "output_type": "stream",
     "text": [
      "Accuracy: 9964/10000 (100%)\n",
      "IoU coverage: 0.15257778409037726\n",
      "Pointing Gmae: 0.2142\n"
     ]
    }
   ],
   "source": [
    "corr_model = Net().to(device)\n",
    "optimizer = optim.SGD(corr_model.parameters(), lr=0.01,momentum=0.5)\n",
    "scheduler = StepLR(optimizer, step_size=1, gamma=0.7)\n",
    "\n",
    "n_epochs = 4\n",
    "for epoch in range(1, n_epochs + 1):\n",
    "    train(epoch, device, corr_model, optimizer, corr_train_loader)\n",
    "    scheduler.step()\n",
    "\n",
    "test(corr_model, device, normal_test_loader)\n",
    "test(corr_model, device, corr_test_loader)"
   ]
  },
  {
   "cell_type": "code",
   "execution_count": 19,
   "id": "50cd96ef-3739-474c-b1ba-4d7c9f91dae4",
   "metadata": {
    "tags": []
   },
   "outputs": [
    {
     "name": "stderr",
     "output_type": "stream",
     "text": [
      "100%|██████████████████████████████████████████████████████████████████████████████████████| 157/157 [00:30<00:00,  5.09it/s]\n"
     ]
    },
    {
     "name": "stdout",
     "output_type": "stream",
     "text": [
      "Accuracy: 9802/10000 (98%)\n",
      "IoU coverage: 0.001379023255143001\n",
      "Pointing Game: 0.0\n"
     ]
    },
    {
     "name": "stderr",
     "output_type": "stream",
     "text": [
      "100%|██████████████████████████████████████████████████████████████████████████████████████| 157/157 [00:30<00:00,  5.10it/s]\n"
     ]
    },
    {
     "name": "stdout",
     "output_type": "stream",
     "text": [
      "Accuracy: 9806/10000 (98%)\n",
      "IoU coverage: 0.0017280056185448223\n",
      "Pointing Game: 0.0\n"
     ]
    },
    {
     "name": "stderr",
     "output_type": "stream",
     "text": [
      "100%|██████████████████████████████████████████████████████████████████████████████████████| 157/157 [00:32<00:00,  4.89it/s]\n"
     ]
    },
    {
     "name": "stdout",
     "output_type": "stream",
     "text": [
      "Accuracy: 4553/10000 (46%)\n",
      "IoU coverage: 0.22176393224090116\n",
      "Pointing Game: 0.9371\n"
     ]
    },
    {
     "name": "stderr",
     "output_type": "stream",
     "text": [
      "100%|██████████████████████████████████████████████████████████████████████████████████████| 157/157 [00:32<00:00,  4.90it/s]"
     ]
    },
    {
     "name": "stdout",
     "output_type": "stream",
     "text": [
      "Accuracy: 9964/10000 (100%)\n",
      "IoU coverage: 0.14418293150900585\n",
      "Pointing Game: 0.6129\n"
     ]
    },
    {
     "name": "stderr",
     "output_type": "stream",
     "text": [
      "\n"
     ]
    }
   ],
   "source": [
    "test(normal_model, device, color_anno_normal_loader)\n",
    "test(normal_model, device, color_anno_corr_loader)\n",
    "\n",
    "test(corr_model, device, color_anno_normal_loader)\n",
    "test(corr_model, device, color_anno_corr_loader)"
   ]
  },
  {
   "cell_type": "code",
   "execution_count": 66,
   "id": "b195d826-af8e-4158-be04-e5fd3e4ae9d5",
   "metadata": {
    "tags": []
   },
   "outputs": [],
   "source": [
    "def get_pointing_game(saliency, ground_truth):\n",
    "    # iterate through all pixels \n",
    "    for s in range(saliency.shape[0]):\n",
    "        saliency_batch = saliency[s]\n",
    "        ground_truth_batch = ground_truth[s]\n",
    "        pixel = np.unravel_index(saliency_batch.argmax(), saliency_batch.shape)\n",
    "        point = ground_truth_batch[pixel[0], pixel[1]]\n",
    "\n",
    "        # check if most salient feature is in ground truth \n",
    "        if point > 0:\n",
    "            return True\n",
    "    return False"
   ]
  },
  {
   "cell_type": "code",
   "execution_count": 76,
   "id": "241858d3-4936-42e4-aca1-df57d73d1ffc",
   "metadata": {
    "tags": []
   },
   "outputs": [
    {
     "data": {
      "image/png": "[encoded data removed]",
      "text/plain": [
       "<Figure size 500x500 with 6 Axes>"
      ]
     },
     "metadata": {},
     "output_type": "display_data"
    }
   ],
   "source": [
    "fig, ax = plt.subplots(nrows=2, ncols=3, figsize=(5, 5))\n",
    "np.vectorize(ax_off)(ax)\n",
    "fig_images = random.sample(range(10000), 2)\n",
    "\n",
    "data = [corr_test_data[i] for i in fig_images]\n",
    "\n",
    "saliency_method = VanillaGradients(corr_model)\n",
    "\n",
    "for i, (data, ground_truth, target) in enumerate(data):\n",
    "    data_ind = fig_images[i]\n",
    "    masked_image = data * ground_truth\n",
    "    ax[i, 0].imshow(data.permute(1,2,0))\n",
    "    ax[i, 0].set(frame_on=False)\n",
    "    ax[i, 1].imshow(ground_truth)\n",
    "    \n",
    "    data = data.to(device)\n",
    "\n",
    "    saliency = flatten(saliency_method.get_saliency(data.unsqueeze(0)))\n",
    "    saliency_masks = binarize_std(saliency)\n",
    "\n",
    "    iou_coverage = shared_interest(ground_truth.unsqueeze(0), saliency_masks, score='iou_coverage')[0]\n",
    "    pg = get_pointing_game(saliency, ground_truth.unsqueeze(0))\n",
    "    \n",
    "    saliency_image = np.expand_dims(saliency_masks, axis=3)\n",
    "    ax[i, 2].imshow(saliency_image[0], cmap='gray')\n",
    "    pg_string = \"O\" if pg else \"X\"\n",
    "    \n",
    "    ground_truth_block = torch.zeros((28, 28))\n",
    "    for ii in range(5):\n",
    "        for jj in range(5):\n",
    "            ground_truth_block[ii][jj] = 1\n",
    "    iou_coverage_block = shared_interest(ground_truth_block.unsqueeze(0), saliency_masks, score='iou_coverage')[0]\n",
    "    pg_block = get_pointing_game(saliency, ground_truth_block.unsqueeze(0))\n",
    "    pg_block_string = \"O\" if pg_block else \"X\"\n",
    "    ax[i, 2].set_title(\"Digit PG: \" + pg_string + ', IoU: ' + str(iou_coverage)[:4] + \"\\nBlock PG: \" + pg_block_string + ', IoU: ' + str(iou_coverage_block)[:4], fontsize=10)\n"
   ]
  },
  {
   "cell_type": "code",
   "execution_count": 77,
   "id": "04bbf845-3eac-47a5-8ecd-ffcaabc30578",
   "metadata": {
    "tags": []
   },
   "outputs": [
    {
     "data": {
      "image/png": "[encoded data removed]",
      "text/plain": [
       "<Figure size 500x500 with 6 Axes>"
      ]
     },
     "metadata": {},
     "output_type": "display_data"
    }
   ],
   "source": [
    "fig, ax = plt.subplots(nrows=2, ncols=3, figsize=(5, 5))\n",
    "np.vectorize(ax_off)(ax)\n",
    "\n",
    "saliency_method = VanillaGradients(normal_model)\n",
    "pg = False \n",
    "\n",
    "data = [corr_test_data[i] for i in fig_images]\n",
    "\n",
    "for i, (data, ground_truth, target) in enumerate(data):\n",
    "    data_ind = fig_images[i]\n",
    "    masked_image = data * ground_truth\n",
    "    ax[i, 0].imshow(data.permute(1,2,0))\n",
    "    ax[i, 0].set(frame_on=False)\n",
    "    ax[i, 1].imshow(ground_truth)\n",
    "    \n",
    "    data = data.to(device)\n",
    "\n",
    "    saliency = flatten(saliency_method.get_saliency(data.unsqueeze(0)))\n",
    "    saliency_masks = binarize_std(saliency)\n",
    "\n",
    "    iou_coverage = shared_interest(ground_truth.unsqueeze(0), saliency_masks, score='iou_coverage')[0]\n",
    "    pg = get_pointing_game(saliency, ground_truth.unsqueeze(0))\n",
    "    \n",
    "    saliency_image = np.expand_dims(saliency_masks, axis=3)\n",
    "    ax[i, 2].imshow(saliency_image[0], cmap='gray')\n",
    "    pg_string = \"O\" if pg else \"X\"\n",
    "    \n",
    "    ground_truth_block = torch.zeros((28, 28))\n",
    "    for ii in range(5):\n",
    "        for jj in range(5):\n",
    "            ground_truth_block[ii][jj] = 1\n",
    "    iou_coverage_block = shared_interest(ground_truth_block.unsqueeze(0), saliency_masks, score='iou_coverage')[0]\n",
    "    pg_block = get_pointing_game(saliency, ground_truth_block.unsqueeze(0))\n",
    "    pg_block_string = \"O\" if pg_block else \"X\"\n",
    "    ax[i, 2].set_title(\"Digit PG: \" + pg_string + ', IoU: ' + str(iou_coverage)[:4] + \"\\nBlock PG: \" + pg_block_string + ', IoU: ' + str(iou_coverage_block)[:4], fontsize=10)"
   ]
  },
  {
   "cell_type": "code",
   "execution_count": 21,
   "id": "8c6f046d-98f2-4b19-a3d9-d4249e373f81",
   "metadata": {
    "tags": []
   },
   "outputs": [],
   "source": [
    "def ax_off(ax):\n",
    "    ax.tick_params(\n",
    "        which='both',\n",
    "        bottom=False,\n",
    "        top=False,\n",
    "        left=False,\n",
    "        right=False,\n",
    "        labelbottom=False,\n",
    "        labeltop=False,\n",
    "        labelleft=False,\n",
    "        labelright=False,\n",
    "    )"
   ]
  }
 ],
 "metadata": {
  "kernelspec": {
   "display_name": "Python 3 (ipykernel)",
   "language": "python",
   "name": "python3"
  },
  "language_info": {
   "codemirror_mode": {
    "name": "ipython",
    "version": 3
   },
   "file_extension": ".py",
   "mimetype": "text/x-python",
   "name": "python",
   "nbconvert_exporter": "python",
   "pygments_lexer": "ipython3",
   "version": "3.8.13"
  }
 },
 "nbformat": 4,
 "nbformat_minor": 5
}
